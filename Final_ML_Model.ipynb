{
 "cells": [
  {
   "cell_type": "code",
   "execution_count": 392,
   "id": "94c533e6",
   "metadata": {},
   "outputs": [],
   "source": [
    "import pandas as pd\n",
    "import numpy as np\n",
    "import matplotlib.pyplot as plt\n",
    "import importlib\n",
    "import preprocessing_d\n",
    "importlib.reload(preprocessing_d)\n",
    "import preprocessing_d\n",
    "import seaborn as sns\n"
   ]
  },
  {
   "cell_type": "code",
   "execution_count": 393,
   "id": "59799e48",
   "metadata": {},
   "outputs": [
    {
     "data": {
      "text/html": [
       "<div>\n",
       "<style scoped>\n",
       "    .dataframe tbody tr th:only-of-type {\n",
       "        vertical-align: middle;\n",
       "    }\n",
       "\n",
       "    .dataframe tbody tr th {\n",
       "        vertical-align: top;\n",
       "    }\n",
       "\n",
       "    .dataframe thead th {\n",
       "        text-align: right;\n",
       "    }\n",
       "</style>\n",
       "<table border=\"1\" class=\"dataframe\">\n",
       "  <thead>\n",
       "    <tr style=\"text-align: right;\">\n",
       "      <th></th>\n",
       "      <th>model_name</th>\n",
       "      <th>model_year</th>\n",
       "      <th>kms_driven</th>\n",
       "      <th>owner</th>\n",
       "      <th>location</th>\n",
       "      <th>mileage</th>\n",
       "      <th>power</th>\n",
       "      <th>price</th>\n",
       "    </tr>\n",
       "  </thead>\n",
       "  <tbody>\n",
       "    <tr>\n",
       "      <th>0</th>\n",
       "      <td>Bajaj Avenger Cruise 220 2017</td>\n",
       "      <td>2017</td>\n",
       "      <td>17000 Km</td>\n",
       "      <td>first owner</td>\n",
       "      <td>hyderabad</td>\n",
       "      <td>\\n\\n 35 kmpl</td>\n",
       "      <td>19 bhp</td>\n",
       "      <td>63500</td>\n",
       "    </tr>\n",
       "    <tr>\n",
       "      <th>1</th>\n",
       "      <td>Royal Enfield Classic 350cc 2016</td>\n",
       "      <td>2016</td>\n",
       "      <td>50000 Km</td>\n",
       "      <td>first owner</td>\n",
       "      <td>hyderabad</td>\n",
       "      <td>\\n\\n 35 kmpl</td>\n",
       "      <td>19.80 bhp</td>\n",
       "      <td>115000</td>\n",
       "    </tr>\n",
       "    <tr>\n",
       "      <th>2</th>\n",
       "      <td>Hyosung GT250R 2012</td>\n",
       "      <td>2012</td>\n",
       "      <td>14795 Km</td>\n",
       "      <td>first owner</td>\n",
       "      <td>hyderabad</td>\n",
       "      <td>\\n\\n 30 kmpl</td>\n",
       "      <td>28 bhp</td>\n",
       "      <td>300000</td>\n",
       "    </tr>\n",
       "    <tr>\n",
       "      <th>3</th>\n",
       "      <td>Bajaj Dominar 400 ABS 2017</td>\n",
       "      <td>2017</td>\n",
       "      <td>Mileage 28 Kms</td>\n",
       "      <td>first owner</td>\n",
       "      <td>pondicherry</td>\n",
       "      <td>\\n\\n 28 Kms</td>\n",
       "      <td>34.50 bhp</td>\n",
       "      <td>100000</td>\n",
       "    </tr>\n",
       "    <tr>\n",
       "      <th>4</th>\n",
       "      <td>Jawa Perak 330cc 2020</td>\n",
       "      <td>2020</td>\n",
       "      <td>2000 Km</td>\n",
       "      <td>first owner</td>\n",
       "      <td>bangalore</td>\n",
       "      <td>\\n\\n</td>\n",
       "      <td>30 bhp</td>\n",
       "      <td>197500</td>\n",
       "    </tr>\n",
       "  </tbody>\n",
       "</table>\n",
       "</div>"
      ],
      "text/plain": [
       "                         model_name  model_year      kms_driven        owner  \\\n",
       "0     Bajaj Avenger Cruise 220 2017        2017        17000 Km  first owner   \n",
       "1  Royal Enfield Classic 350cc 2016        2016        50000 Km  first owner   \n",
       "2               Hyosung GT250R 2012        2012        14795 Km  first owner   \n",
       "3        Bajaj Dominar 400 ABS 2017        2017  Mileage 28 Kms  first owner   \n",
       "4             Jawa Perak 330cc 2020        2020         2000 Km  first owner   \n",
       "\n",
       "      location       mileage      power   price  \n",
       "0    hyderabad  \\n\\n 35 kmpl     19 bhp   63500  \n",
       "1    hyderabad  \\n\\n 35 kmpl  19.80 bhp  115000  \n",
       "2    hyderabad  \\n\\n 30 kmpl     28 bhp  300000  \n",
       "3  pondicherry   \\n\\n 28 Kms  34.50 bhp  100000  \n",
       "4    bangalore         \\n\\n      30 bhp  197500  "
      ]
     },
     "execution_count": 393,
     "metadata": {},
     "output_type": "execute_result"
    }
   ],
   "source": [
    "bikes=pd.read_csv(\"bikes.csv\")\n",
    "bikes.head()"
   ]
  },
  {
   "cell_type": "code",
   "execution_count": 394,
   "id": "395d5e60",
   "metadata": {},
   "outputs": [
    {
     "data": {
      "text/plain": [
       "(7857, 8)"
      ]
     },
     "execution_count": 394,
     "metadata": {},
     "output_type": "execute_result"
    }
   ],
   "source": [
    "bikes.shape"
   ]
  },
  {
   "cell_type": "code",
   "execution_count": 395,
   "id": "58ccfef7",
   "metadata": {},
   "outputs": [],
   "source": [
    "bikes1=preprocessing_d.BikePreprocess(bikes)\n",
    "#bikes1.preprocess_dataset()\n",
    "bikes1=bikes1.preprocess_dataset()"
   ]
  },
  {
   "cell_type": "code",
   "execution_count": 396,
   "id": "bee3521a",
   "metadata": {},
   "outputs": [
    {
     "data": {
      "text/html": [
       "<div>\n",
       "<style scoped>\n",
       "    .dataframe tbody tr th:only-of-type {\n",
       "        vertical-align: middle;\n",
       "    }\n",
       "\n",
       "    .dataframe tbody tr th {\n",
       "        vertical-align: top;\n",
       "    }\n",
       "\n",
       "    .dataframe thead th {\n",
       "        text-align: right;\n",
       "    }\n",
       "</style>\n",
       "<table border=\"1\" class=\"dataframe\">\n",
       "  <thead>\n",
       "    <tr style=\"text-align: right;\">\n",
       "      <th></th>\n",
       "      <th>model_name</th>\n",
       "      <th>model_year</th>\n",
       "      <th>kms_driven</th>\n",
       "      <th>owner</th>\n",
       "      <th>location</th>\n",
       "      <th>mileage</th>\n",
       "      <th>power</th>\n",
       "      <th>price</th>\n",
       "      <th>brand</th>\n",
       "      <th>cc</th>\n",
       "    </tr>\n",
       "  </thead>\n",
       "  <tbody>\n",
       "  </tbody>\n",
       "</table>\n",
       "</div>"
      ],
      "text/plain": [
       "Empty DataFrame\n",
       "Columns: [model_name, model_year, kms_driven, owner, location, mileage, power, price, brand, cc]\n",
       "Index: []"
      ]
     },
     "execution_count": 396,
     "metadata": {},
     "output_type": "execute_result"
    }
   ],
   "source": [
    "bikes1[bikes1[\"price\"]==0]"
   ]
  },
  {
   "cell_type": "code",
   "execution_count": 397,
   "id": "bfc54e5f",
   "metadata": {},
   "outputs": [],
   "source": [
    "bikes1=preprocessing_d.BikePreprocess(bikes)"
   ]
  },
  {
   "cell_type": "code",
   "execution_count": 398,
   "id": "e9ec562e",
   "metadata": {},
   "outputs": [],
   "source": [
    "bikes=bikes1.preprocess_dataset()"
   ]
  },
  {
   "cell_type": "code",
   "execution_count": 399,
   "id": "3bf8a0d6",
   "metadata": {},
   "outputs": [],
   "source": [
    "df = bikes[(bikes['price'] < 500000) & (bikes['kms_driven'] < 200000)]\n",
    "df.shape\n",
    "\n",
    "lower_cap = bikes['price'].quantile(0.01)\n",
    "upper_cap = bikes['price'].quantile(0.99)\n",
    "df['price'] = bikes['price'].clip(lower=lower_cap, upper=upper_cap)\n",
    "df[\"price\"]\n",
    "bikes=bikes.loc[df[\"price\"].index]"
   ]
  },
  {
   "cell_type": "code",
   "execution_count": 400,
   "id": "117775f1",
   "metadata": {},
   "outputs": [],
   "source": [
    "location_encoder_freq=bikes['location'].value_counts()\n",
    "model_name_encoder_freq=bikes['model_name'].value_counts()\n",
    "brand_encoder_freq=bikes['brand'].value_counts()"
   ]
  },
  {
   "cell_type": "code",
   "execution_count": 401,
   "id": "370e02ea",
   "metadata": {},
   "outputs": [],
   "source": [
    "categorical_cols = ['model_name', 'location', 'brand']\n",
    "numerical_cols_x= [\"kms_driven\", \"mileage\", \"power\", \"cc\"]\n",
    "y_col = \"price\"\n",
    "categorical_encoders_freq={'model_name':model_name_encoder_freq, 'location':location_encoder_freq, 'brand':brand_encoder_freq}"
   ]
  },
  {
   "cell_type": "code",
   "execution_count": 402,
   "id": "c9426a9f",
   "metadata": {},
   "outputs": [],
   "source": [
    "import pickle\n",
    "pickle.dump(categorical_encoders_freq, open(\"categorical_encoders_freq.pkl\", \"wb\"))"
   ]
  },
  {
   "cell_type": "code",
   "execution_count": 403,
   "id": "5861e855",
   "metadata": {},
   "outputs": [],
   "source": [
    "from preprocessing_d import ML_scale_tranfsormed\n",
    "bikes_trans=ML_scale_tranfsormed(bikes).transform_data_freq()"
   ]
  },
  {
   "cell_type": "code",
   "execution_count": 404,
   "id": "28063b9c",
   "metadata": {},
   "outputs": [],
   "source": [
    "from sklearn.ensemble import IsolationForest\n",
    "\n",
    "\n",
    "X = bikes_trans[numerical_cols_x]\n",
    "\n",
    "# Initialize model\n",
    "iso_forest = IsolationForest(contamination=0.05, random_state=42)\n",
    "bikes_trans['anomaly'] = iso_forest.fit_predict(X)\n",
    "\n",
    "# -1 = anomaly, 1 = normal\n",
    "df_outliers = bikes_trans[bikes_trans['anomaly'] == -1]\n",
    "df_cleaned = bikes_trans[bikes_trans['anomaly'] == 1]\n",
    "df_cleaned.drop(\"anomaly\", axis=1, inplace=True)\n",
    "bikes_trans=df_cleaned"
   ]
  },
  {
   "cell_type": "code",
   "execution_count": 405,
   "id": "8e98f638",
   "metadata": {},
   "outputs": [
    {
     "data": {
      "text/plain": [
       "(7254, 10)"
      ]
     },
     "execution_count": 405,
     "metadata": {},
     "output_type": "execute_result"
    }
   ],
   "source": [
    "bikes_trans.shape"
   ]
  },
  {
   "cell_type": "code",
   "execution_count": 406,
   "id": "525d601b",
   "metadata": {},
   "outputs": [
    {
     "data": {
      "text/html": [
       "<div>\n",
       "<style scoped>\n",
       "    .dataframe tbody tr th:only-of-type {\n",
       "        vertical-align: middle;\n",
       "    }\n",
       "\n",
       "    .dataframe tbody tr th {\n",
       "        vertical-align: top;\n",
       "    }\n",
       "\n",
       "    .dataframe thead th {\n",
       "        text-align: right;\n",
       "    }\n",
       "</style>\n",
       "<table border=\"1\" class=\"dataframe\">\n",
       "  <thead>\n",
       "    <tr style=\"text-align: right;\">\n",
       "      <th></th>\n",
       "      <th>model_name</th>\n",
       "      <th>model_year</th>\n",
       "      <th>kms_driven</th>\n",
       "      <th>owner</th>\n",
       "      <th>location</th>\n",
       "      <th>mileage</th>\n",
       "      <th>power</th>\n",
       "      <th>price</th>\n",
       "      <th>brand</th>\n",
       "      <th>cc</th>\n",
       "    </tr>\n",
       "  </thead>\n",
       "  <tbody>\n",
       "    <tr>\n",
       "      <th>0</th>\n",
       "      <td>25</td>\n",
       "      <td>2017</td>\n",
       "      <td>17000.0</td>\n",
       "      <td>1</td>\n",
       "      <td>331</td>\n",
       "      <td>35.0</td>\n",
       "      <td>19.0</td>\n",
       "      <td>63500</td>\n",
       "      <td>2091</td>\n",
       "      <td>220.0</td>\n",
       "    </tr>\n",
       "    <tr>\n",
       "      <th>1</th>\n",
       "      <td>69</td>\n",
       "      <td>2016</td>\n",
       "      <td>50000.0</td>\n",
       "      <td>1</td>\n",
       "      <td>331</td>\n",
       "      <td>35.0</td>\n",
       "      <td>19.0</td>\n",
       "      <td>115000</td>\n",
       "      <td>1744</td>\n",
       "      <td>350.0</td>\n",
       "    </tr>\n",
       "    <tr>\n",
       "      <th>2</th>\n",
       "      <td>6</td>\n",
       "      <td>2012</td>\n",
       "      <td>14795.0</td>\n",
       "      <td>1</td>\n",
       "      <td>331</td>\n",
       "      <td>30.0</td>\n",
       "      <td>28.0</td>\n",
       "      <td>300000</td>\n",
       "      <td>52</td>\n",
       "      <td>250.0</td>\n",
       "    </tr>\n",
       "    <tr>\n",
       "      <th>3</th>\n",
       "      <td>31</td>\n",
       "      <td>2017</td>\n",
       "      <td>28.0</td>\n",
       "      <td>1</td>\n",
       "      <td>6</td>\n",
       "      <td>28.0</td>\n",
       "      <td>34.0</td>\n",
       "      <td>100000</td>\n",
       "      <td>2091</td>\n",
       "      <td>400.0</td>\n",
       "    </tr>\n",
       "    <tr>\n",
       "      <th>4</th>\n",
       "      <td>8</td>\n",
       "      <td>2020</td>\n",
       "      <td>2000.0</td>\n",
       "      <td>1</td>\n",
       "      <td>757</td>\n",
       "      <td>30.0</td>\n",
       "      <td>30.0</td>\n",
       "      <td>197500</td>\n",
       "      <td>46</td>\n",
       "      <td>330.0</td>\n",
       "    </tr>\n",
       "  </tbody>\n",
       "</table>\n",
       "</div>"
      ],
      "text/plain": [
       "   model_name  model_year  kms_driven  owner  location  mileage  power  \\\n",
       "0          25        2017     17000.0      1       331     35.0   19.0   \n",
       "1          69        2016     50000.0      1       331     35.0   19.0   \n",
       "2           6        2012     14795.0      1       331     30.0   28.0   \n",
       "3          31        2017        28.0      1         6     28.0   34.0   \n",
       "4           8        2020      2000.0      1       757     30.0   30.0   \n",
       "\n",
       "    price  brand     cc  \n",
       "0   63500   2091  220.0  \n",
       "1  115000   1744  350.0  \n",
       "2  300000     52  250.0  \n",
       "3  100000   2091  400.0  \n",
       "4  197500     46  330.0  "
      ]
     },
     "execution_count": 406,
     "metadata": {},
     "output_type": "execute_result"
    }
   ],
   "source": [
    "bikes_trans.head()"
   ]
  },
  {
   "cell_type": "code",
   "execution_count": null,
   "id": "8087c1ab",
   "metadata": {},
   "outputs": [],
   "source": [
    "import hdbscan\n",
    "\n",
    "cluster=hdbscan.HDBSCAN(min_cluster_size=6, min_samples=15, metric='euclidean', cluster_selection_method='eom')"
   ]
  },
  {
   "cell_type": "code",
   "execution_count": 408,
   "id": "f9f3102f",
   "metadata": {},
   "outputs": [
    {
     "data": {
      "text/plain": [
       "array([[ 0.57789981,  0.39928125,  0.1092848 , ..., -0.39572963,\n",
       "         1.15277719, -0.05478997],\n",
       "       [ 3.21680779,  0.14465389,  2.12426822, ...,  0.5437713 ,\n",
       "         0.66491117,  1.13418372],\n",
       "       [-0.56162863, -0.87385553, -0.02535273, ...,  3.91867755,\n",
       "        -1.71396292,  0.21958858],\n",
       "       ...,\n",
       "       [ 0.21804873,  0.14465389, -0.53752488, ..., -0.42783684,\n",
       "         1.15277719, -0.42062802],\n",
       "       [ 2.19722971,  0.14465389, -0.46932075, ..., -0.6602493 ,\n",
       "         1.15277719, -0.69500657],\n",
       "       [ 0.51792463,  0.14465389, -0.01283541, ..., -0.36836552,\n",
       "         1.15277719, -0.05478997]], shape=(7254, 10))"
      ]
     },
     "execution_count": 408,
     "metadata": {},
     "output_type": "execute_result"
    }
   ],
   "source": [
    "# Scaling Columns and Data Scaling\n",
    "from sklearn.preprocessing import RobustScaler, StandardScaler\n",
    "scaler_cluster = StandardScaler()\n",
    "scaler_cluster.fit_transform(bikes_trans)\n"
   ]
  },
  {
   "cell_type": "code",
   "execution_count": 409,
   "id": "771dedf7",
   "metadata": {},
   "outputs": [],
   "source": [
    "bikes_HDBSCAN=pd.DataFrame(scaler_cluster.fit_transform(bikes_trans), columns=bikes_trans.columns, index=bikes_trans.index)"
   ]
  },
  {
   "cell_type": "code",
   "execution_count": 410,
   "id": "3da5bfaf",
   "metadata": {},
   "outputs": [
    {
     "data": {
      "text/plain": [
       "array([18, 13, -1, ..., 18, -1, 18], shape=(7254,))"
      ]
     },
     "execution_count": 410,
     "metadata": {},
     "output_type": "execute_result"
    }
   ],
   "source": [
    "cluster.fit_predict(bikes_HDBSCAN)"
   ]
  },
  {
   "cell_type": "code",
   "execution_count": 411,
   "id": "015dc43f",
   "metadata": {},
   "outputs": [],
   "source": [
    "bikes_HDBSCAN[\"Cluster\"]=cluster.fit_predict(bikes_HDBSCAN)"
   ]
  },
  {
   "cell_type": "code",
   "execution_count": 412,
   "id": "91ea21ff",
   "metadata": {},
   "outputs": [],
   "source": [
    "final_cluster=bikes_HDBSCAN[bikes_HDBSCAN[\"Cluster\"]!=-1][bikes_trans.columns]"
   ]
  },
  {
   "cell_type": "code",
   "execution_count": 413,
   "id": "674702af",
   "metadata": {},
   "outputs": [
    {
     "data": {
      "text/plain": [
       "(6269, 10)"
      ]
     },
     "execution_count": 413,
     "metadata": {},
     "output_type": "execute_result"
    }
   ],
   "source": [
    "final_cluster.shape"
   ]
  },
  {
   "cell_type": "code",
   "execution_count": 414,
   "id": "f85d6566",
   "metadata": {},
   "outputs": [],
   "source": [
    "\n",
    "final_cluster=pd.DataFrame(scaler_cluster.inverse_transform(final_cluster), columns=final_cluster.columns, index=final_cluster.index)"
   ]
  },
  {
   "cell_type": "code",
   "execution_count": 415,
   "id": "3ff527d0",
   "metadata": {},
   "outputs": [],
   "source": [
    "from sklearn.model_selection import train_test_split\n",
    "from sklearn.metrics import root_mean_squared_error, r2_score\n",
    "X=final_cluster.drop(\"price\", axis=1)\n",
    "y=final_cluster[\"price\"]\n",
    "# log transformation\n",
    "y=np.log1p(y)\n",
    "X_train, X_test, y_train, y_test = train_test_split(X, y, test_size=0.2, random_state=42)"
   ]
  },
  {
   "cell_type": "code",
   "execution_count": 416,
   "id": "415792f5",
   "metadata": {},
   "outputs": [
    {
     "data": {
      "text/plain": [
       "\"from sklearn.preprocessing import QuantileTransformer\\nqt_normal_x = QuantileTransformer(output_distribution='normal', random_state=42)\\n\\nX_train[numerical_cols_x] = qt_normal_x.fit_transform(X_train[numerical_cols_x])\\nX_test[numerical_cols_x] = qt_normal_x.transform(X_test[numerical_cols_x])\""
      ]
     },
     "execution_count": 416,
     "metadata": {},
     "output_type": "execute_result"
    }
   ],
   "source": [
    "\"\"\"from sklearn.preprocessing import QuantileTransformer\n",
    "qt_normal_x = QuantileTransformer(output_distribution='normal', random_state=42)\n",
    "\n",
    "X_train[numerical_cols_x] = qt_normal_x.fit_transform(X_train[numerical_cols_x])\n",
    "X_test[numerical_cols_x] = qt_normal_x.transform(X_test[numerical_cols_x])\"\"\""
   ]
  },
  {
   "cell_type": "code",
   "execution_count": 417,
   "id": "4df40c5e",
   "metadata": {},
   "outputs": [
    {
     "name": "stdout",
     "output_type": "stream",
     "text": [
      "Best Parameters: {'depth': 6, 'iterations': 500, 'learning_rate': 0.05}\n",
      "R2 Score: 0.9299555195721716\n",
      "📌 RMSE: 0.18155723021881529\n",
      "💰 Mean Price: 11.156376516930266\n",
      "📈 Median Price: price    11.225257\n",
      "dtype: float64\n",
      "⬇️ Min Price: 7.601402334583733\n",
      "⬆️ Max Price: 12.758701222519067\n",
      "📊 RMSE as % of mean price: 1.63%\n",
      "✅ Excellent RMSE (less than 10% of mean price)\n",
      "Adjusted R-squared: 0.9294487669002661\n"
     ]
    }
   ],
   "source": [
    "from catboost import CatBoostRegressor\n",
    "from sklearn.model_selection import GridSearchCV\n",
    "from sklearn.metrics import r2_score, mean_squared_error\n",
    "import numpy as np\n",
    "\n",
    "# Define the base model\n",
    "cat_model = CatBoostRegressor(random_seed=42, verbose=False)\n",
    "\n",
    "# Define the hyperparameter grid\n",
    "param_grid = {\n",
    "    'iterations': [300, 500],\n",
    "    'learning_rate': [0.01, 0.05, 0.1],\n",
    "    'depth': [4, 6, 8]\n",
    "}\n",
    "\n",
    "# Set up GridSearchCV\n",
    "grid_search = GridSearchCV(\n",
    "    estimator=cat_model,\n",
    "    param_grid=param_grid,\n",
    "    scoring='r2',        # or use 'neg_root_mean_squared_error'\n",
    "    cv=5,\n",
    "    n_jobs=-1\n",
    ")\n",
    "\n",
    "# Fit on training data\n",
    "grid_search.fit(X_train, y_train)\n",
    "print(\"Best Parameters:\", grid_search.best_params_)\n",
    "model=grid_search.best_estimator_\n",
    "\n",
    "# ===== 6. Evaluate =====\n",
    "y_pred = model.predict(X_test)\n",
    "# Suppose you already calculated RMSE\n",
    "rmse = root_mean_squared_error(y_test, y_pred)\n",
    "\n",
    "# Check price statistics in bikes1\n",
    "mean_price = y_train.mean()\n",
    "median_price = pd.DataFrame(y_train).median()\n",
    "min_price = y_train.min()\n",
    "max_price = y_train.max()\n",
    "\n",
    "# Calculate relative error (as a percentage of mean price)\n",
    "relative_error = (rmse / mean_price) * 100\n",
    "print(\"R2 Score:\", r2_score(y_test, y_pred))\n",
    "# Print comparison\n",
    "print(f\"📌 RMSE: {rmse:}\")\n",
    "print(f\"💰 Mean Price: {mean_price}\")\n",
    "print(f\"📈 Median Price: {median_price}\")\n",
    "print(f\"⬇️ Min Price: {min_price}\")\n",
    "print(f\"⬆️ Max Price: {max_price}\")\n",
    "print(f\"📊 RMSE as % of mean price: {relative_error:.2f}%\")\n",
    "\n",
    "# Optional quick judgement\n",
    "if relative_error < 10:\n",
    "    print(\"✅ Excellent RMSE (less than 10% of mean price)\")\n",
    "elif relative_error < 20:\n",
    "    print(\"✅ Good RMSE (10–20% of mean price)\")\n",
    "elif relative_error < 30:\n",
    "    print(\"⚠️ Acceptable RMSE (20–30% of mean price)\")\n",
    "else:\n",
    "    print(\"❌ High RMSE (more than 30% of mean price) — could be improved\")\n",
    "print(\"Adjusted R-squared:\", 1 - (1 - model.score(X_test, y_test)) * (len(y_test) - 1) / (len(y_test) - X_test.shape[1] - 1))"
   ]
  },
  {
   "cell_type": "code",
   "execution_count": 418,
   "id": "d7387f58",
   "metadata": {},
   "outputs": [
    {
     "data": {
      "image/png": "[encoded data removed]",
      "text/plain": [
       "<Figure size 800x600 with 1 Axes>"
      ]
     },
     "metadata": {},
     "output_type": "display_data"
    }
   ],
   "source": [
    "y_test = y_test\n",
    "y_pred = model.predict(X_test)\n",
    "\n",
    "plt.figure(figsize=(8, 6))\n",
    "sns.scatterplot(x=y_test, y=y_pred, alpha=0.6, edgecolor=None)\n",
    "plt.plot([y_test.min(), y_test.max()], [y_test.min(), y_test.max()], color='red', linestyle='--', label='Perfect Prediction')\n",
    "\n",
    "plt.xlabel('Actual Values (y_test)')\n",
    "plt.ylabel('Predicted Values (y_pred)')\n",
    "plt.title('Actual vs Predicted')\n",
    "plt.legend()\n",
    "plt.grid(True)\n",
    "plt.tight_layout()\n",
    "plt.show()\n"
   ]
  },
  {
   "cell_type": "code",
   "execution_count": 419,
   "id": "6572b59b",
   "metadata": {},
   "outputs": [],
   "source": [
    "# function for preprocessing\n",
    "from preprocessing_d import ML_scale_tranfsormed\n",
    "\n",
    "def ml_preprocess(bikes):\n",
    "    bikes1=preprocessing_d.BikePreprocess(bikes)\n",
    "    bikes1=bikes1.preprocess_dataset()\n",
    "    bikes_trans=ML_scale_tranfsormed(bikes1).transform_data_freq()\n",
    "    return bikes_trans"
   ]
  },
  {
   "cell_type": "code",
   "execution_count": 420,
   "id": "55620237",
   "metadata": {},
   "outputs": [
    {
     "data": {
      "text/html": [
       "<div>\n",
       "<style scoped>\n",
       "    .dataframe tbody tr th:only-of-type {\n",
       "        vertical-align: middle;\n",
       "    }\n",
       "\n",
       "    .dataframe tbody tr th {\n",
       "        vertical-align: top;\n",
       "    }\n",
       "\n",
       "    .dataframe thead th {\n",
       "        text-align: right;\n",
       "    }\n",
       "</style>\n",
       "<table border=\"1\" class=\"dataframe\">\n",
       "  <thead>\n",
       "    <tr style=\"text-align: right;\">\n",
       "      <th></th>\n",
       "      <th>model_name</th>\n",
       "      <th>model_year</th>\n",
       "      <th>kms_driven</th>\n",
       "      <th>owner</th>\n",
       "      <th>location</th>\n",
       "      <th>mileage</th>\n",
       "      <th>power</th>\n",
       "      <th>price</th>\n",
       "      <th>brand</th>\n",
       "      <th>cc</th>\n",
       "    </tr>\n",
       "  </thead>\n",
       "  <tbody>\n",
       "    <tr>\n",
       "      <th>0</th>\n",
       "      <td>25.0</td>\n",
       "      <td>2017</td>\n",
       "      <td>17000.0</td>\n",
       "      <td>1</td>\n",
       "      <td>331.0</td>\n",
       "      <td>35.0</td>\n",
       "      <td>19.0</td>\n",
       "      <td>63500</td>\n",
       "      <td>2091.0</td>\n",
       "      <td>220.0</td>\n",
       "    </tr>\n",
       "    <tr>\n",
       "      <th>1</th>\n",
       "      <td>69.0</td>\n",
       "      <td>2016</td>\n",
       "      <td>50000.0</td>\n",
       "      <td>1</td>\n",
       "      <td>331.0</td>\n",
       "      <td>35.0</td>\n",
       "      <td>19.0</td>\n",
       "      <td>115000</td>\n",
       "      <td>1744.0</td>\n",
       "      <td>350.0</td>\n",
       "    </tr>\n",
       "    <tr>\n",
       "      <th>2</th>\n",
       "      <td>6.0</td>\n",
       "      <td>2012</td>\n",
       "      <td>14795.0</td>\n",
       "      <td>1</td>\n",
       "      <td>331.0</td>\n",
       "      <td>30.0</td>\n",
       "      <td>28.0</td>\n",
       "      <td>300000</td>\n",
       "      <td>52.0</td>\n",
       "      <td>250.0</td>\n",
       "    </tr>\n",
       "    <tr>\n",
       "      <th>3</th>\n",
       "      <td>31.0</td>\n",
       "      <td>2017</td>\n",
       "      <td>28.0</td>\n",
       "      <td>1</td>\n",
       "      <td>6.0</td>\n",
       "      <td>28.0</td>\n",
       "      <td>34.0</td>\n",
       "      <td>100000</td>\n",
       "      <td>2091.0</td>\n",
       "      <td>400.0</td>\n",
       "    </tr>\n",
       "    <tr>\n",
       "      <th>4</th>\n",
       "      <td>8.0</td>\n",
       "      <td>2020</td>\n",
       "      <td>2000.0</td>\n",
       "      <td>1</td>\n",
       "      <td>757.0</td>\n",
       "      <td>30.0</td>\n",
       "      <td>30.0</td>\n",
       "      <td>197500</td>\n",
       "      <td>46.0</td>\n",
       "      <td>330.0</td>\n",
       "    </tr>\n",
       "    <tr>\n",
       "      <th>...</th>\n",
       "      <td>...</td>\n",
       "      <td>...</td>\n",
       "      <td>...</td>\n",
       "      <td>...</td>\n",
       "      <td>...</td>\n",
       "      <td>...</td>\n",
       "      <td>...</td>\n",
       "      <td>...</td>\n",
       "      <td>...</td>\n",
       "      <td>...</td>\n",
       "    </tr>\n",
       "    <tr>\n",
       "      <th>7852</th>\n",
       "      <td>9.0</td>\n",
       "      <td>2011</td>\n",
       "      <td>7000.0</td>\n",
       "      <td>1</td>\n",
       "      <td>24.0</td>\n",
       "      <td>42.0</td>\n",
       "      <td>16.0</td>\n",
       "      <td>55000</td>\n",
       "      <td>744.0</td>\n",
       "      <td>150.0</td>\n",
       "    </tr>\n",
       "    <tr>\n",
       "      <th>7853</th>\n",
       "      <td>2.0</td>\n",
       "      <td>2015</td>\n",
       "      <td>80.0</td>\n",
       "      <td>1</td>\n",
       "      <td>1401.0</td>\n",
       "      <td>80.0</td>\n",
       "      <td>7.7</td>\n",
       "      <td>28000</td>\n",
       "      <td>2091.0</td>\n",
       "      <td>100.0</td>\n",
       "    </tr>\n",
       "    <tr>\n",
       "      <th>7854</th>\n",
       "      <td>19.0</td>\n",
       "      <td>2016</td>\n",
       "      <td>6407.0</td>\n",
       "      <td>1</td>\n",
       "      <td>757.0</td>\n",
       "      <td>65.0</td>\n",
       "      <td>17.0</td>\n",
       "      <td>61740</td>\n",
       "      <td>2091.0</td>\n",
       "      <td>180.0</td>\n",
       "    </tr>\n",
       "    <tr>\n",
       "      <th>7855</th>\n",
       "      <td>52.0</td>\n",
       "      <td>2016</td>\n",
       "      <td>7524.0</td>\n",
       "      <td>1</td>\n",
       "      <td>757.0</td>\n",
       "      <td>57.0</td>\n",
       "      <td>11.0</td>\n",
       "      <td>49000</td>\n",
       "      <td>2091.0</td>\n",
       "      <td>150.0</td>\n",
       "    </tr>\n",
       "    <tr>\n",
       "      <th>7856</th>\n",
       "      <td>24.0</td>\n",
       "      <td>2016</td>\n",
       "      <td>15000.0</td>\n",
       "      <td>1</td>\n",
       "      <td>306.0</td>\n",
       "      <td>38.0</td>\n",
       "      <td>21.0</td>\n",
       "      <td>65000</td>\n",
       "      <td>2091.0</td>\n",
       "      <td>220.0</td>\n",
       "    </tr>\n",
       "  </tbody>\n",
       "</table>\n",
       "<p>7826 rows × 10 columns</p>\n",
       "</div>"
      ],
      "text/plain": [
       "      model_name  model_year  kms_driven  owner  location  mileage  power  \\\n",
       "0           25.0        2017     17000.0      1     331.0     35.0   19.0   \n",
       "1           69.0        2016     50000.0      1     331.0     35.0   19.0   \n",
       "2            6.0        2012     14795.0      1     331.0     30.0   28.0   \n",
       "3           31.0        2017        28.0      1       6.0     28.0   34.0   \n",
       "4            8.0        2020      2000.0      1     757.0     30.0   30.0   \n",
       "...          ...         ...         ...    ...       ...      ...    ...   \n",
       "7852         9.0        2011      7000.0      1      24.0     42.0   16.0   \n",
       "7853         2.0        2015        80.0      1    1401.0     80.0    7.7   \n",
       "7854        19.0        2016      6407.0      1     757.0     65.0   17.0   \n",
       "7855        52.0        2016      7524.0      1     757.0     57.0   11.0   \n",
       "7856        24.0        2016     15000.0      1     306.0     38.0   21.0   \n",
       "\n",
       "       price   brand     cc  \n",
       "0      63500  2091.0  220.0  \n",
       "1     115000  1744.0  350.0  \n",
       "2     300000    52.0  250.0  \n",
       "3     100000  2091.0  400.0  \n",
       "4     197500    46.0  330.0  \n",
       "...      ...     ...    ...  \n",
       "7852   55000   744.0  150.0  \n",
       "7853   28000  2091.0  100.0  \n",
       "7854   61740  2091.0  180.0  \n",
       "7855   49000  2091.0  150.0  \n",
       "7856   65000  2091.0  220.0  \n",
       "\n",
       "[7826 rows x 10 columns]"
      ]
     },
     "execution_count": 420,
     "metadata": {},
     "output_type": "execute_result"
    }
   ],
   "source": [
    "bi=pd.read_csv(\"bikes.csv\")\n",
    "ml_preprocess(bi)"
   ]
  },
  {
   "cell_type": "code",
   "execution_count": null,
   "id": "fa56d70c",
   "metadata": {},
   "outputs": [],
   "source": []
  }
 ],
 "metadata": {
  "kernelspec": {
   "display_name": "pr2",
   "language": "python",
   "name": "python3"
  },
  "language_info": {
   "codemirror_mode": {
    "name": "ipython",
    "version": 3
   },
   "file_extension": ".py",
   "mimetype": "text/x-python",
   "name": "python",
   "nbconvert_exporter": "python",
   "pygments_lexer": "ipython3",
   "version": "3.12.6"
  }
 },
 "nbformat": 4,
 "nbformat_minor": 5
}
